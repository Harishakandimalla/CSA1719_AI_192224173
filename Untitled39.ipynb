{
  "nbformat": 4,
  "nbformat_minor": 0,
  "metadata": {
    "colab": {
      "provenance": [],
      "authorship_tag": "ABX9TyPKFwvj0kIo8eZMqTBJRlqK",
      "include_colab_link": true
    },
    "kernelspec": {
      "name": "python3",
      "display_name": "Python 3"
    },
    "language_info": {
      "name": "python"
    }
  },
  "cells": [
    {
      "cell_type": "markdown",
      "metadata": {
        "id": "view-in-github",
        "colab_type": "text"
      },
      "source": [
        "<a href=\"https://colab.research.google.com/github/Harishakandimalla/CSA1719_AI_192224173/blob/main/Untitled39.ipynb\" target=\"_parent\"><img src=\"https://colab.research.google.com/assets/colab-badge.svg\" alt=\"Open In Colab\"/></a>"
      ]
    },
    {
      "cell_type": "code",
      "source": [
        "from collections import defaultdict\n",
        "\n",
        "class Graph:\n",
        "    def __init__(self):\n",
        "        self.graph = defaultdict(list)\n",
        "\n",
        "    def add_edge(self, u, v):\n",
        "        self.graph[u].append(v)\n",
        "\n",
        "    def bfs(self, start):\n",
        "        visited = [False] * (max(self.graph) + 1)\n",
        "        queue = []\n",
        "        queue.append(start)\n",
        "        visited[start] = True\n",
        "\n",
        "        while queue:\n",
        "            start = queue.pop(0)\n",
        "            print(start, end=\" \")\n",
        "\n",
        "            for i in self.graph[start]:\n",
        "                if not visited[i]:\n",
        "                    queue.append(i)\n",
        "                    visited[i] = True\n",
        "\n",
        "# Example usage:\n",
        "g = Graph()\n",
        "g.add_edge(0, 1)\n",
        "g.add_edge(0, 2)\n",
        "g.add_edge(1, 2)\n",
        "g.add_edge(2, 0)\n",
        "g.add_edge(2, 3)\n",
        "g.add_edge(3, 3)\n",
        "\n",
        "print(\"Breadth First Traversal starting from vertex 2:\")\n",
        "g.bfs(2)\n"
      ],
      "metadata": {
        "colab": {
          "base_uri": "https://localhost:8080/"
        },
        "id": "tnbgVk08GviN",
        "outputId": "da10d3e2-e3c9-4ef5-9f91-2236e6a12d50"
      },
      "execution_count": 5,
      "outputs": [
        {
          "output_type": "stream",
          "name": "stdout",
          "text": [
            "Breadth First Traversal starting from vertex 2:\n",
            "2 0 3 1 "
          ]
        }
      ]
    },
    {
      "cell_type": "code",
      "source": [
        "graph = {\n",
        "  '5' : ['3','7'],\n",
        "  '3' : ['2', '4'],\n",
        "  '7' : ['8'],\n",
        "  '2' : [],\n",
        "  '4' : ['8'],\n",
        "  '8' : []\n",
        "}\n",
        "\n",
        "visited = set()\n",
        "\n",
        "def dfs(visited, graph, node):\n",
        "    if node not in visited:\n",
        "        print (node)\n",
        "        visited.add(node)\n",
        "        for neighbour in graph[node]:\n",
        "            dfs(visited, graph, neighbour)\n",
        "\n",
        "# Driver Code\n",
        "print(\"Following is the Depth-First Search\")\n",
        "dfs(visited,graph,'5')"
      ],
      "metadata": {
        "colab": {
          "base_uri": "https://localhost:8080/"
        },
        "id": "vX8J4YZBHf42",
        "outputId": "0fe95324-61b4-4344-a755-e4d94ba2b569"
      },
      "execution_count": 6,
      "outputs": [
        {
          "output_type": "stream",
          "name": "stdout",
          "text": [
            "Following is the Depth-First Search\n",
            "5\n",
            "3\n",
            "2\n",
            "4\n",
            "8\n",
            "7\n"
          ]
        }
      ]
    },
    {
      "cell_type": "code",
      "source": [
        "import math\n",
        "\n",
        "def distance(city1, city2):\n",
        "    # Calculate Euclidean distance between two cities\n",
        "    return math.sqrt((city1[0] - city2[0]) ** 2 + (city1[1] - city2[1]) ** 2)\n",
        "\n",
        "def nearest_neighbor(cities):\n",
        "    num_cities = len(cities)\n",
        "    unvisited = set(range(1, num_cities))  # Set of unvisited cities\n",
        "    current_city = 0  # Starting city\n",
        "    tour = [current_city]  # Initialize the tour with the starting city\n",
        "\n",
        "    while unvisited:\n",
        "        nearest_city = min(unvisited, key=lambda city: distance(cities[current_city], cities[city]))\n",
        "        tour.append(nearest_city)\n",
        "        unvisited.remove(nearest_city)\n",
        "        current_city = nearest_city\n",
        "\n",
        "    # Return to the starting city to complete the tour\n",
        "    tour.append(tour[0])\n",
        "\n",
        "    return tour\n",
        "\n",
        "def total_distance(tour, cities):\n",
        "    # Calculate the total distance of the tour\n",
        "    total_dist = 0\n",
        "    for i in range(len(tour) - 1):\n",
        "        total_dist += distance(cities[tour[i]], cities[tour[i + 1]])\n",
        "    return total_dist\n",
        "\n",
        "if __name__== \"__main__\":\n",
        "    # Input the cities as (x, y) coordinates\n",
        "    cities = []\n",
        "    num_cities = int(input(\"Enter the number of cities: \"))\n",
        "    for i in range(num_cities):\n",
        "        x, y = map(float, input(f\"Enter the coordinates for city {i}: \").split())\n",
        "        cities.append((x, y))\n",
        "\n",
        "    # Find a tour using the nearest neighbor algorithm\n",
        "    tour = nearest_neighbor(cities)\n",
        "\n",
        "    # Print the tour and total distance\n",
        "    print(\"Tour:\", tour)\n",
        "    print(\"Total Distance:\", total_distance(tour, cities))"
      ],
      "metadata": {
        "colab": {
          "base_uri": "https://localhost:8080/"
        },
        "id": "_M0--vVlKIof",
        "outputId": "f751c025-3173-468c-9663-b6f14eb4d530"
      },
      "execution_count": 17,
      "outputs": [
        {
          "output_type": "stream",
          "name": "stdout",
          "text": [
            "Enter the number of cities: 4\n",
            "Enter the coordinates for city 0: 0 1\n",
            "Enter the coordinates for city 1: 1 2\n",
            "Enter the coordinates for city 2: 2 3\n",
            "Enter the coordinates for city 3: 3 4\n",
            "Tour: [0, 1, 2, 3, 0]\n",
            "Total Distance: 8.485281374238571\n"
          ]
        }
      ]
    },
    {
      "cell_type": "code",
      "source": [
        "def is_safe(graph, node, color, coloring):\n",
        "    for neighbor in graph[node]:\n",
        "        if neighbor in coloring and coloring[neighbor] == color:\n",
        "            return False\n",
        "    return True\n",
        "\n",
        "def map_coloring(graph, colors, coloring, nodes):\n",
        "    if not nodes:\n",
        "        return True\n",
        "\n",
        "    node = nodes[0]\n",
        "    for color in colors:\n",
        "        if is_safe(graph, node, color, coloring):\n",
        "            coloring[node] = color\n",
        "            if map_coloring(graph, colors, coloring, nodes[1:]):\n",
        "                return True\n",
        "            coloring.pop(node, None)\n",
        "\n",
        "    return False\n",
        "\n",
        "def main():\n",
        "    # Define the graph as an adjacency list\n",
        "    graph = {\n",
        "        'A': ['B', 'C'],\n",
        "        'B': ['A', 'C', 'D'],\n",
        "        'C': ['A', 'B', 'D', 'E'],\n",
        "        'D': ['B', 'C', 'E', 'F'],\n",
        "        'E': ['C', 'D'],\n",
        "        'F': ['D']\n",
        "    }\n",
        "\n",
        "    # Define the available colors\n",
        "    colors = ['Red', 'Green', 'Blue']\n",
        "\n",
        "    # Initialize an empty coloring dictionary\n",
        "    coloring = {}\n",
        "\n",
        "    # Start coloring the map for all nodes in the graph\n",
        "    nodes = list(graph.keys())\n",
        "\n",
        "    if map_coloring(graph, colors, coloring, nodes):\n",
        "        print(\"Map coloring solution:\")\n",
        "        for node, color in coloring.items():\n",
        "            print(f\"{node} -> {color}\")\n",
        "    else:\n",
        "        print(\"No valid coloring found for the map.\")\n",
        "\n",
        "if __name__ == \"__main__\":\n",
        "    main()"
      ],
      "metadata": {
        "colab": {
          "base_uri": "https://localhost:8080/"
        },
        "id": "Id2SNScjKMgf",
        "outputId": "0ca90430-d0a6-4940-aa8a-acb4fb4b54eb"
      },
      "execution_count": 18,
      "outputs": [
        {
          "output_type": "stream",
          "name": "stdout",
          "text": [
            "Map coloring solution:\n",
            "A -> Red\n",
            "B -> Green\n",
            "C -> Blue\n",
            "D -> Red\n",
            "E -> Green\n",
            "F -> Green\n"
          ]
        }
      ]
    },
    {
      "cell_type": "code",
      "source": [
        "import heapq\n",
        "\n",
        "class Graph:\n",
        "    def __init__(self):\n",
        "        self.edges = {}\n",
        "\n",
        "    def add_edge(self, start, end, cost):\n",
        "        if start not in self.edges:\n",
        "            self.edges[start] = []\n",
        "        self.edges[start].append((end, cost))\n",
        "\n",
        "    def a_star(self, start, goal, heuristic):\n",
        "        heap = [(0, start)]\n",
        "        came_from = {}\n",
        "        cost_so_far = {start: 0}\n",
        "\n",
        "        while heap:\n",
        "            current_cost, current_node = heapq.heappop(heap)\n",
        "\n",
        "            if current_node == goal:\n",
        "                break\n",
        "\n",
        "            for next_node, cost in self.edges[current_node]:\n",
        "                new_cost = cost_so_far[current_node] + cost\n",
        "                if next_node not in cost_so_far or new_cost < cost_so_far[next_node]:\n",
        "                    cost_so_far[next_node] = new_cost\n",
        "                    priority = new_cost + heuristic(next_node, goal)\n",
        "                    heapq.heappush(heap, (priority, next_node))\n",
        "                    came_from[next_node] = current_node\n",
        "\n",
        "        path = [goal]\n",
        "        while goal != start:\n",
        "            goal = came_from[goal]\n",
        "            path.append(goal)\n",
        "        path.reverse()\n",
        "        return path\n",
        "\n",
        "def heuristic(node, goal):\n",
        "    return abs(node[0] - goal[0]) + abs(node[1] - goal[1])\n",
        "\n",
        "graph = Graph()\n",
        "graph.add_edge((0, 0), (0, 1), 1)\n",
        "graph.add_edge((0, 1), (1, 1), 1)\n",
        "graph.add_edge((1, 1), (1, 2), 1)\n",
        "graph.add_edge((1, 2), (2, 2), 1)\n",
        "graph.add_edge((2, 2), (2, 3), 1)\n",
        "graph.add_edge((2, 3), (3, 3), 1)\n",
        "graph.add_edge((3, 3), (3, 4), 1)\n",
        "graph.add_edge((3, 4), (4, 4), 1)\n",
        "graph.add_edge((4, 4), (4, 5), 1)\n",
        "\n",
        "start = (0, 0)\n",
        "goal = (4, 5)\n",
        "\n",
        "path = graph.a_star(start, goal, heuristic)\n",
        "print(\"Path from\", start, \"to\", goal, \":\", path)\n"
      ],
      "metadata": {
        "colab": {
          "base_uri": "https://localhost:8080/"
        },
        "id": "cAqYD31nKJKw",
        "outputId": "df427be1-0dc7-4a9d-d49b-aec206968986"
      },
      "execution_count": 19,
      "outputs": [
        {
          "output_type": "stream",
          "name": "stdout",
          "text": [
            "Path from (0, 0) to (4, 5) : [(0, 0), (0, 1), (1, 1), (1, 2), (2, 2), (2, 3), (3, 3), (3, 4), (4, 4), (4, 5)]\n"
          ]
        }
      ]
    },
    {
      "cell_type": "code",
      "source": [
        "def sum(a,b,c):\n",
        "    return a+b+c\n",
        "def printBoard(xState , zState):\n",
        "\n",
        "    zero =  'X' if xState[0] else('@' if zState[0] else 0 )\n",
        "    one =  'X' if xState[1] else('@' if zState[1] else 1 )\n",
        "    two =  'X' if xState[2] else('@' if zState[2] else 2 )\n",
        "    three =  'X' if xState[3] else('@' if zState[3] else 3 )\n",
        "    four =  'X' if xState[4] else('@' if zState[4] else 4 )\n",
        "    five =  'X' if xState[5] else('@' if zState[5] else 5 )\n",
        "    six =  'X' if xState[6] else('@' if zState[6] else 6 )\n",
        "    seven =  'X' if xState[7] else('@' if zState[7] else 7 )\n",
        "    eight =  'X' if xState[8] else('@' if zState[8] else 8 )\n",
        "\n",
        "    print(f\" {zero} | {one} | {two} \")\n",
        "    print(f\"---|---|---\")\n",
        "    print(f\" {three} | {four} | {five} \")\n",
        "    print(f\"---|---|---\")\n",
        "    print(f\" {six} | {seven} | {eight} \")\n",
        "\n",
        "def checkWin(xState,zState) :\n",
        "    wins = [[0,1,2], [3,4,5], [6,7,8], [0,3,6], [1,4,7], [2,5,8], [0,4,8], [2,4,6]]\n",
        "    for win in wins :\n",
        "        if(sum(xState[win[0]], xState[win[1]], xState[win[2]]) == 3) :\n",
        "            print(\"X won the game\")\n",
        "            return 1\n",
        "        if(sum(zState[win[0]], zState[win[1]], zState[win[2]]) == 3) :\n",
        "            print(\"O won the game.\")\n",
        "            return 0\n",
        "    return -1\n",
        "\n",
        "if __name__ == \"__main__\" :\n",
        "\n",
        "    total_turns = 9\n",
        "\n",
        "    xState = [0, 0, 0, 0, 0, 0, 0, 0, 0 ]\n",
        "    zState = [0, 0, 0, 0, 0, 0, 0, 0, 0 ]\n",
        "    turn = 1 # 1 for X and 0 for O\n",
        "    print(\"Welcome to TIC-TAC-TOE\")\n",
        "    while(True) :\n",
        "        printBoard(xState, zState)\n",
        "        if(turn == 1):\n",
        "            print(\"X's Chance\")\n",
        "            value = int(input(\"Please enter a value : \"))\n",
        "            xState[value] = 1\n",
        "        else :\n",
        "            print(\"O's Chance\")\n",
        "            value = int(input(\"Please enter a value : \"))\n",
        "            zState[value] = 1\n",
        "\n",
        "        total_turns = total_turns - 1\n",
        "\n",
        "        if(checkWin(xState, zState) != -1 or total_turns == 0 ):\n",
        "            print(\"GAME OVER\")\n",
        "            printBoard(xState, zState)\n",
        "            break\n",
        "        turn = 1 -  turn"
      ],
      "metadata": {
        "colab": {
          "base_uri": "https://localhost:8080/"
        },
        "id": "99_3KC3eKJbA",
        "outputId": "bd0faf08-b193-42b6-9a81-9d67eda78c4a"
      },
      "execution_count": 21,
      "outputs": [
        {
          "output_type": "stream",
          "name": "stdout",
          "text": [
            "Welcome to TIC-TAC-TOE\n",
            " 0 | 1 | 2 \n",
            "---|---|---\n",
            " 3 | 4 | 5 \n",
            "---|---|---\n",
            " 6 | 7 | 8 \n",
            "X's Chance\n",
            "Please enter a value : 4\n",
            " 0 | 1 | 2 \n",
            "---|---|---\n",
            " 3 | X | 5 \n",
            "---|---|---\n",
            " 6 | 7 | 8 \n",
            "O's Chance\n",
            "Please enter a value : 2\n",
            " 0 | 1 | @ \n",
            "---|---|---\n",
            " 3 | X | 5 \n",
            "---|---|---\n",
            " 6 | 7 | 8 \n",
            "X's Chance\n",
            "Please enter a value : 0\n",
            " X | 1 | @ \n",
            "---|---|---\n",
            " 3 | X | 5 \n",
            "---|---|---\n",
            " 6 | 7 | 8 \n",
            "O's Chance\n",
            "Please enter a value : 8\n",
            " X | 1 | @ \n",
            "---|---|---\n",
            " 3 | X | 5 \n",
            "---|---|---\n",
            " 6 | 7 | @ \n",
            "X's Chance\n",
            "Please enter a value : 6\n",
            " X | 1 | @ \n",
            "---|---|---\n",
            " 3 | X | 5 \n",
            "---|---|---\n",
            " X | 7 | @ \n",
            "O's Chance\n",
            "Please enter a value : 5\n",
            "O won the game.\n",
            "GAME OVER\n",
            " X | 1 | @ \n",
            "---|---|---\n",
            " 3 | X | @ \n",
            "---|---|---\n",
            " X | 7 | @ \n"
          ]
        }
      ]
    }
  ]
}
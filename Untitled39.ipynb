{
  "nbformat": 4,
  "nbformat_minor": 0,
  "metadata": {
    "colab": {
      "provenance": [],
      "authorship_tag": "ABX9TyPYJSNnZ5QdhgRmQUxKA6ZM",
      "include_colab_link": true
    },
    "kernelspec": {
      "name": "python3",
      "display_name": "Python 3"
    },
    "language_info": {
      "name": "python"
    }
  },
  "cells": [
    {
      "cell_type": "markdown",
      "metadata": {
        "id": "view-in-github",
        "colab_type": "text"
      },
      "source": [
        "<a href=\"https://colab.research.google.com/github/Harishakandimalla/CSA1719_AI_192224173/blob/main/Untitled39.ipynb\" target=\"_parent\"><img src=\"https://colab.research.google.com/assets/colab-badge.svg\" alt=\"Open In Colab\"/></a>"
      ]
    },
    {
      "cell_type": "code",
      "source": [
        "from collections import defaultdict\n",
        "\n",
        "class Graph:\n",
        "    def __init__(self):\n",
        "        self.graph = defaultdict(list)\n",
        "\n",
        "    def add_edge(self, u, v):\n",
        "        self.graph[u].append(v)\n",
        "\n",
        "    def bfs(self, start):\n",
        "        visited = [False] * (max(self.graph) + 1)\n",
        "        queue = []\n",
        "        queue.append(start)\n",
        "        visited[start] = True\n",
        "\n",
        "        while queue:\n",
        "            start = queue.pop(0)\n",
        "            print(start, end=\" \")\n",
        "\n",
        "            for i in self.graph[start]:\n",
        "                if not visited[i]:\n",
        "                    queue.append(i)\n",
        "                    visited[i] = True\n",
        "g = Graph()\n",
        "g.add_edge(0, 1)\n",
        "g.add_edge(0, 2)\n",
        "g.add_edge(1, 2)\n",
        "g.add_edge(2, 0)\n",
        "g.add_edge(2, 3)\n",
        "g.add_edge(3, 3)\n",
        "\n",
        "print(\"Breadth First Traversal starting from vertex 2:\")\n",
        "g.bfs(2)\n"
      ],
      "metadata": {
        "colab": {
          "base_uri": "https://localhost:8080/"
        },
        "id": "tnbgVk08GviN",
        "outputId": "da10d3e2-e3c9-4ef5-9f91-2236e6a12d50"
      },
      "execution_count": 5,
      "outputs": [
        {
          "output_type": "stream",
          "name": "stdout",
          "text": [
            "Breadth First Traversal starting from vertex 2:\n",
            "2 0 3 1 "
          ]
        }
      ]
    },
    {
      "cell_type": "code",
      "source": [
        "graph = {\n",
        "  '5' : ['3','7'],\n",
        "  '3' : ['2', '4'],\n",
        "  '7' : ['8'],\n",
        "  '2' : [],\n",
        "  '4' : ['8'],\n",
        "  '8' : []\n",
        "}\n",
        "\n",
        "visited = set()\n",
        "\n",
        "def dfs(visited, graph, node):\n",
        "    if node not in visited:\n",
        "        print (node)\n",
        "        visited.add(node)\n",
        "        for neighbour in graph[node]:\n",
        "            dfs(visited, graph, neighbour)\n",
        "print(\"Following is the Depth-First Search\")\n",
        "dfs(visited,graph,'5')"
      ],
      "metadata": {
        "colab": {
          "base_uri": "https://localhost:8080/"
        },
        "id": "vX8J4YZBHf42",
        "outputId": "0fe95324-61b4-4344-a755-e4d94ba2b569"
      },
      "execution_count": 6,
      "outputs": [
        {
          "output_type": "stream",
          "name": "stdout",
          "text": [
            "Following is the Depth-First Search\n",
            "5\n",
            "3\n",
            "2\n",
            "4\n",
            "8\n",
            "7\n"
          ]
        }
      ]
    },
    {
      "cell_type": "code",
      "source": [
        "import math\n",
        "\n",
        "def distance(city1, city2):\n",
        "    return math.sqrt((city1[0] - city2[0]) ** 2 + (city1[1] - city2[1]) ** 2)\n",
        "\n",
        "def nearest_neighbor(cities):\n",
        "    num_cities = len(cities)\n",
        "    unvisited = set(range(1, num_cities))\n",
        "    current_city = 0\n",
        "    tour = [current_city]\n",
        "    while unvisited:\n",
        "        nearest_city = min(unvisited, key=lambda city: distance(cities[current_city], cities[city]))\n",
        "        tour.append(nearest_city)\n",
        "        unvisited.remove(nearest_city)\n",
        "        current_city = nearest_city\n",
        "    tour.append(tour[0])\n",
        "\n",
        "    return tour\n",
        "\n",
        "def total_distance(tour, cities):\n",
        "    total_dist = 0\n",
        "    for i in range(len(tour) - 1):\n",
        "        total_dist += distance(cities[tour[i]], cities[tour[i + 1]])\n",
        "    return total_dist\n",
        "\n",
        "if __name__== \"__main__\":\n",
        "    cities = []\n",
        "    num_cities = int(input(\"Enter the number of cities: \"))\n",
        "    for i in range(num_cities):\n",
        "        x, y = map(float, input(f\"Enter the coordinates for city {i}: \").split())\n",
        "        cities.append((x, y))\n",
        "    tour = nearest_neighbor(cities)\n",
        "    print(\"Tour:\", tour)\n",
        "    print(\"Total Distance:\", total_distance(tour, cities))"
      ],
      "metadata": {
        "colab": {
          "base_uri": "https://localhost:8080/"
        },
        "id": "_M0--vVlKIof",
        "outputId": "f751c025-3173-468c-9663-b6f14eb4d530"
      },
      "execution_count": 17,
      "outputs": [
        {
          "output_type": "stream",
          "name": "stdout",
          "text": [
            "Enter the number of cities: 4\n",
            "Enter the coordinates for city 0: 0 1\n",
            "Enter the coordinates for city 1: 1 2\n",
            "Enter the coordinates for city 2: 2 3\n",
            "Enter the coordinates for city 3: 3 4\n",
            "Tour: [0, 1, 2, 3, 0]\n",
            "Total Distance: 8.485281374238571\n"
          ]
        }
      ]
    },
    {
      "cell_type": "code",
      "source": [
        "def is_safe(graph, node, color, coloring):\n",
        "    for neighbor in graph[node]:\n",
        "        if neighbor in coloring and coloring[neighbor] == color:\n",
        "            return False\n",
        "    return True\n",
        "\n",
        "def map_coloring(graph, colors, coloring, nodes):\n",
        "    if not nodes:\n",
        "        return True\n",
        "\n",
        "    node = nodes[0]\n",
        "    for color in colors:\n",
        "        if is_safe(graph, node, color, coloring):\n",
        "            coloring[node] = color\n",
        "            if map_coloring(graph, colors, coloring, nodes[1:]):\n",
        "                return True\n",
        "            coloring.pop(node, None)\n",
        "\n",
        "    return False\n",
        "\n",
        "def main():\n",
        "    graph = {\n",
        "        'A': ['B', 'C'],\n",
        "        'B': ['A', 'C', 'D'],\n",
        "        'C': ['A', 'B', 'D', 'E'],\n",
        "        'D': ['B', 'C', 'E', 'F'],\n",
        "        'E': ['C', 'D'],\n",
        "        'F': ['D']\n",
        "    }\n",
        "    colors = ['Red', 'Green', 'Blue']\n",
        "    coloring = {}\n",
        "    nodes = list(graph.keys())\n",
        "\n",
        "    if map_coloring(graph, colors, coloring, nodes):\n",
        "        print(\"Map coloring solution:\")\n",
        "        for node, color in coloring.items():\n",
        "            print(f\"{node} -> {color}\")\n",
        "    else:\n",
        "        print(\"No valid coloring found for the map.\")\n",
        "\n",
        "if __name__ == \"__main__\":\n",
        "    main()"
      ],
      "metadata": {
        "colab": {
          "base_uri": "https://localhost:8080/"
        },
        "id": "Id2SNScjKMgf",
        "outputId": "0ca90430-d0a6-4940-aa8a-acb4fb4b54eb"
      },
      "execution_count": 18,
      "outputs": [
        {
          "output_type": "stream",
          "name": "stdout",
          "text": [
            "Map coloring solution:\n",
            "A -> Red\n",
            "B -> Green\n",
            "C -> Blue\n",
            "D -> Red\n",
            "E -> Green\n",
            "F -> Green\n"
          ]
        }
      ]
    },
    {
      "cell_type": "code",
      "source": [
        "def sum(a,b,c):\n",
        "    return a+b+c\n",
        "def printBoard(xState , zState):\n",
        "\n",
        "    zero =  'X' if xState[0] else('@' if zState[0] else 0 )\n",
        "    one =  'X' if xState[1] else('@' if zState[1] else 1 )\n",
        "    two =  'X' if xState[2] else('@' if zState[2] else 2 )\n",
        "    three =  'X' if xState[3] else('@' if zState[3] else 3 )\n",
        "    four =  'X' if xState[4] else('@' if zState[4] else 4 )\n",
        "    five =  'X' if xState[5] else('@' if zState[5] else 5 )\n",
        "    six =  'X' if xState[6] else('@' if zState[6] else 6 )\n",
        "    seven =  'X' if xState[7] else('@' if zState[7] else 7 )\n",
        "    eight =  'X' if xState[8] else('@' if zState[8] else 8 )\n",
        "\n",
        "    print(f\" {zero} | {one} | {two} \")\n",
        "    print(f\"---|---|---\")\n",
        "    print(f\" {three} | {four} | {five} \")\n",
        "    print(f\"---|---|---\")\n",
        "    print(f\" {six} | {seven} | {eight} \")\n",
        "\n",
        "def checkWin(xState,zState) :\n",
        "    wins = [[0,1,2], [3,4,5], [6,7,8], [0,3,6], [1,4,7], [2,5,8], [0,4,8], [2,4,6]]\n",
        "    for win in wins :\n",
        "        if(sum(xState[win[0]], xState[win[1]], xState[win[2]]) == 3) :\n",
        "            print(\"X won the game\")\n",
        "            return 1\n",
        "        if(sum(zState[win[0]], zState[win[1]], zState[win[2]]) == 3) :\n",
        "            print(\"O won the game.\")\n",
        "            return 0\n",
        "    return -1\n",
        "\n",
        "if __name__ == \"__main__\" :\n",
        "\n",
        "    total_turns = 9\n",
        "\n",
        "    xState = [0, 0, 0, 0, 0, 0, 0, 0, 0 ]\n",
        "    zState = [0, 0, 0, 0, 0, 0, 0, 0, 0 ]\n",
        "    turn = 1 # 1 for X and 0 for O\n",
        "    print(\"Welcome to TIC-TAC-TOE\")\n",
        "    while(True) :\n",
        "        printBoard(xState, zState)\n",
        "        if(turn == 1):\n",
        "            print(\"X's Chance\")\n",
        "            value = int(input(\"Please enter a value : \"))\n",
        "            xState[value] = 1\n",
        "        else :\n",
        "            print(\"O's Chance\")\n",
        "            value = int(input(\"Please enter a value : \"))\n",
        "            zState[value] = 1\n",
        "\n",
        "        total_turns = total_turns - 1\n",
        "\n",
        "        if(checkWin(xState, zState) != -1 or total_turns == 0 ):\n",
        "            print(\"GAME OVER\")\n",
        "            printBoard(xState, zState)\n",
        "            break\n",
        "        turn = 1 -  turn"
      ],
      "metadata": {
        "colab": {
          "base_uri": "https://localhost:8080/"
        },
        "id": "99_3KC3eKJbA",
        "outputId": "1ceba164-3583-4b1b-be7a-94497310026b"
      },
      "execution_count": 24,
      "outputs": [
        {
          "output_type": "stream",
          "name": "stdout",
          "text": [
            "Welcome to TIC-TAC-TOE\n",
            " 0 | 1 | 2 \n",
            "---|---|---\n",
            " 3 | 4 | 5 \n",
            "---|---|---\n",
            " 6 | 7 | 8 \n",
            "X's Chance\n",
            "Please enter a value : 5\n",
            " 0 | 1 | 2 \n",
            "---|---|---\n",
            " 3 | 4 | X \n",
            "---|---|---\n",
            " 6 | 7 | 8 \n",
            "O's Chance\n",
            "Please enter a value : 4\n",
            " 0 | 1 | 2 \n",
            "---|---|---\n",
            " 3 | @ | X \n",
            "---|---|---\n",
            " 6 | 7 | 8 \n",
            "X's Chance\n",
            "Please enter a value : 5\n",
            " 0 | 1 | 2 \n",
            "---|---|---\n",
            " 3 | @ | X \n",
            "---|---|---\n",
            " 6 | 7 | 8 \n",
            "O's Chance\n",
            "Please enter a value : 8\n",
            " 0 | 1 | 2 \n",
            "---|---|---\n",
            " 3 | @ | X \n",
            "---|---|---\n",
            " 6 | 7 | @ \n",
            "X's Chance\n",
            "Please enter a value : 0\n",
            " X | 1 | 2 \n",
            "---|---|---\n",
            " 3 | @ | X \n",
            "---|---|---\n",
            " 6 | 7 | @ \n",
            "O's Chance\n",
            "Please enter a value : 1\n",
            " X | @ | 2 \n",
            "---|---|---\n",
            " 3 | @ | X \n",
            "---|---|---\n",
            " 6 | 7 | @ \n",
            "X's Chance\n",
            "Please enter a value : 2\n",
            " X | @ | X \n",
            "---|---|---\n",
            " 3 | @ | X \n",
            "---|---|---\n",
            " 6 | 7 | @ \n",
            "O's Chance\n",
            "Please enter a value : 7\n",
            "O won the game.\n",
            "GAME OVER\n",
            " X | @ | X \n",
            "---|---|---\n",
            " 3 | @ | X \n",
            "---|---|---\n",
            " 6 | @ | @ \n"
          ]
        }
      ]
    },
    {
      "cell_type": "code",
      "source": [
        "import heapq\n",
        "\n",
        "class Node:\n",
        "    def __init__(self, name):\n",
        "        self.name = name\n",
        "        self.adjacent = {}\n",
        "        self.visited = False\n",
        "        self.distance = float('inf')\n",
        "        self.parent = None\n",
        "\n",
        "    def add_neighbor(self, neighbor, weight):\n",
        "        self.adjacent[neighbor] = weight\n",
        "\n",
        "    def get_neighbors(self):\n",
        "        return self.adjacent.keys()\n",
        "\n",
        "class Graph:\n",
        "    def __init__(self):\n",
        "        self.nodes = {}\n",
        "\n",
        "    def add_node(self, node):\n",
        "        self.nodes[node.name] = node\n",
        "\n",
        "    def get_node(self, name):\n",
        "        return self.nodes.get(name)\n",
        "\n",
        "def astar(graph, start, goal):\n",
        "\n",
        "    closed_set = set()\n",
        "\n",
        "    open_set = []\n",
        "\n",
        "    heapq.heappush(open_set, (0, start))\n",
        "\n",
        "    start.distance = 0\n",
        "\n",
        "    while open_set:\n",
        "        current_distance, current_node = heapq.heappop(open_set)\n",
        "\n",
        "        if current_node == goal:\n",
        "            return reconstruct_path(goal)\n",
        "\n",
        "        current_node.visited = True\n",
        "\n",
        "        for neighbor, weight in current_node.adjacent.items():\n",
        "            if neighbor.visited:\n",
        "                continue\n",
        "\n",
        "            tentative_distance = current_node.distance + weight\n",
        "            if tentative_distance < neighbor.distance:\n",
        "                neighbor.parent = current_node\n",
        "                neighbor.distance = tentative_distance\n",
        "                heapq.heappush(open_set, (tentative_distance, neighbor))\n",
        "\n",
        "    return None\n",
        "\n",
        "def heuristic(node, goal):\n",
        "    return 0\n",
        "\n",
        "def reconstruct_path(goal):\n",
        "    path = []\n",
        "    current = goal\n",
        "    while current.parent:\n",
        "        path.append(current.name)\n",
        "        current = current.parent\n",
        "    path.append(current.name)\n",
        "    return path[::-1]\n",
        "if __name__ == \"__main__\":\n",
        "    graph = Graph()\n",
        "    A = Node(\"A\")\n",
        "    B = Node(\"B\")\n",
        "    C = Node(\"C\")\n",
        "    D = Node(\"D\")\n",
        "    E = Node(\"E\")\n",
        "\n",
        "    A.add_neighbor(B, 5)\n",
        "    A.add_neighbor(C, 10)\n",
        "    B.add_neighbor(D, 3)\n",
        "    C.add_neighbor(D, 2)\n",
        "    D.add_neighbor(E, 7)\n",
        "\n",
        "    graph.add_node(A)\n",
        "    graph.add_node(B)\n",
        "    graph.add_node(C)\n",
        "    graph.add_node(D)\n",
        "    graph.add_node(E)\n",
        "    path = astar(graph, A, E)\n",
        "    print(\"Shortest path:\", path)\n"
      ],
      "metadata": {
        "colab": {
          "base_uri": "https://localhost:8080/"
        },
        "id": "zdZtueT8UbhL",
        "outputId": "6fa18e9b-05ea-41e4-e0dd-e5a7df9b2259"
      },
      "execution_count": 27,
      "outputs": [
        {
          "output_type": "stream",
          "name": "stdout",
          "text": [
            "Shortest path: ['A', 'B', 'D', 'E']\n"
          ]
        }
      ]
    }
  ]
}
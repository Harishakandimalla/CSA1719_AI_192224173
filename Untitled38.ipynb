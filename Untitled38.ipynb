{
  "nbformat": 4,
  "nbformat_minor": 0,
  "metadata": {
    "colab": {
      "provenance": [],
      "authorship_tag": "ABX9TyObHoienFW4k3rwfTxFUFwM",
      "include_colab_link": true
    },
    "kernelspec": {
      "name": "python3",
      "display_name": "Python 3"
    },
    "language_info": {
      "name": "python"
    }
  },
  "cells": [
    {
      "cell_type": "markdown",
      "metadata": {
        "id": "view-in-github",
        "colab_type": "text"
      },
      "source": [
        "<a href=\"https://colab.research.google.com/github/Harishakandimalla/CSA1719_AI_192224173/blob/main/Untitled38.ipynb\" target=\"_parent\"><img src=\"https://colab.research.google.com/assets/colab-badge.svg\" alt=\"Open In Colab\"/></a>"
      ]
    },
    {
      "cell_type": "code",
      "source": [
        "def print_board(board):\n",
        "    for row in board:\n",
        "        print(' '.join(map(str, row)))\n",
        "    print()\n",
        "def move(board, direction):\n",
        "    empty_i, empty_j = find_empty(board)\n",
        "    if direction == 'up' and empty_i > 0:\n",
        "        board[empty_i][empty_j], board[empty_i - 1][empty_j] = board[empty_i - 1][empty_j], board[empty_i][empty_j]\n",
        "\n",
        "    return board\n",
        "def find_empty(board):\n",
        "    for i, row in enumerate(board):\n",
        "        for j, val in enumerate(row):\n",
        "            if val == 0:\n",
        "                return i, j\n",
        "initial_state = [\n",
        "    [1, 2, 3],\n",
        "    [4, 5, 6],\n",
        "    [7, 0, 8]\n",
        "]\n",
        "goal_state = [\n",
        "    [1, 2, 3],\n",
        "    [4, 5, 6],\n",
        "    [7, 8, 0]\n",
        "]\n",
        "print(\"Initial State:\")\n",
        "print_board(initial_state)\n",
        "print(\"Move 'up':\")\n",
        "print_board(move(initial_state,'up'))\n",
        "\n",
        "print(\"Goal State:\")\n",
        "print_board(goal_state)"
      ],
      "metadata": {
        "colab": {
          "base_uri": "https://localhost:8080/"
        },
        "id": "dQrqUs0JyScp",
        "outputId": "510601db-8814-4830-83c4-ed839f9b6eec"
      },
      "execution_count": null,
      "outputs": [
        {
          "output_type": "stream",
          "name": "stdout",
          "text": [
            "Initial State:\n",
            "1 2 3\n",
            "4 5 6\n",
            "7 0 8\n",
            "\n",
            "Move 'up':\n",
            "1 2 3\n",
            "4 0 6\n",
            "7 5 8\n",
            "\n",
            "Goal State:\n",
            "1 2 3\n",
            "4 5 6\n",
            "7 8 0\n",
            "\n"
          ]
        }
      ]
    },
    {
      "cell_type": "code",
      "source": [
        "print (\"Enter the number of queens\")\n",
        "N = int(input())\n",
        "board = [[0]*N for _ in range(N)]\n",
        "\n",
        "def attack(i, j):\n",
        "    for k in range(0,N):\n",
        "        if board[i][k]==1 or board[k][j]==1:\n",
        "            return True\n",
        "        for k in range(0,N):\n",
        "            for l in range(0,N):\n",
        "                if (k+l==i+j) or (k-l==i-j):\n",
        "                    if board[k][l]==1:\n",
        "                        return True\n",
        "    return False\n",
        "\n",
        "def N_queens(n):\n",
        "    if n==0:\n",
        "        return True\n",
        "    for i in range(0,N):\n",
        "        for j in range(0,N):\n",
        "            if (not(attack(i,j))) and (board[i][j]!=1):\n",
        "                board[i][j] = 1\n",
        "                if N_queens(n-1)==True:\n",
        "                    return True\n",
        "                board[i][j] = 0\n",
        "\n",
        "    return False\n",
        "\n",
        "N_queens(N)\n",
        "for i in board:\n",
        "    print (i)"
      ],
      "metadata": {
        "colab": {
          "base_uri": "https://localhost:8080/"
        },
        "id": "WYDGvWdyySpL",
        "outputId": "a73bf1ca-bd03-4d06-d622-bc7b957a7b63"
      },
      "execution_count": null,
      "outputs": [
        {
          "output_type": "stream",
          "name": "stdout",
          "text": [
            "Enter the number of queens\n",
            "8\n",
            "[1, 0, 0, 0, 0, 0, 0, 0]\n",
            "[0, 0, 0, 0, 1, 0, 0, 0]\n",
            "[0, 0, 0, 0, 0, 0, 0, 1]\n",
            "[0, 0, 0, 0, 0, 1, 0, 0]\n",
            "[0, 0, 1, 0, 0, 0, 0, 0]\n",
            "[0, 0, 0, 0, 0, 0, 1, 0]\n",
            "[0, 1, 0, 0, 0, 0, 0, 0]\n",
            "[0, 0, 0, 1, 0, 0, 0, 0]\n"
          ]
        }
      ]
    },
    {
      "cell_type": "code",
      "source": [
        "def water_jug_problem(jug1_capacity, jug2_capacity, target):\n",
        "    jug1, jug2 = 0, 0\n",
        "\n",
        "    while jug1 != target and jug2 != target:\n",
        "        if jug1 == 0:\n",
        "            jug1 = jug1_capacity\n",
        "        elif jug2 == jug2_capacity:\n",
        "            jug2 = 0\n",
        "        else:\n",
        "            pour_amount = min(jug1, jug2_capacity - jug2)\n",
        "            jug1 -= pour_amount\n",
        "            jug2 += pour_amount\n",
        "\n",
        "        print(f\"Jug1: {jug1}/{jug1_capacity}, Jug2: {jug2}/{jug2_capacity}\")\n",
        "\n",
        "\n",
        "water_jug_problem(4,3,2)"
      ],
      "metadata": {
        "colab": {
          "base_uri": "https://localhost:8080/"
        },
        "id": "Eb8XLVupySwR",
        "outputId": "1746c9f8-0702-46be-d96f-d1b69130d4a5"
      },
      "execution_count": null,
      "outputs": [
        {
          "output_type": "stream",
          "name": "stdout",
          "text": [
            "Jug1: 4/4, Jug2: 0/3\n",
            "Jug1: 1/4, Jug2: 3/3\n",
            "Jug1: 1/4, Jug2: 0/3\n",
            "Jug1: 0/4, Jug2: 1/3\n",
            "Jug1: 4/4, Jug2: 1/3\n",
            "Jug1: 2/4, Jug2: 3/3\n"
          ]
        }
      ]
    },
    {
      "cell_type": "code",
      "source": [
        "from itertools import permutations\n",
        "def solve_cryptarithmetic():\n",
        "    for values in permutations(range(10), 8):\n",
        "        s, e, n, d, m, o, r, y = values\n",
        "        if s != 0 and m != 0:\n",
        "            send = s * 1000 + e * 100 + n * 10 + d\n",
        "            more = m * 1000 + o * 100 + r * 10 + e\n",
        "            money = m * 10000 + o * 1000 + n * 100 + e * 10 + y\n",
        "            if send + more == money:\n",
        "                return send, more, money\n",
        "\n",
        "result = solve_cryptarithmetic()\n",
        "if result:\n",
        "    send, more, money = result\n",
        "    print(f\"SEND = {send}, MORE = {more}, MONEY = {money}\")\n",
        "else:\n",
        "    print(\"No solution found.\")"
      ],
      "metadata": {
        "colab": {
          "base_uri": "https://localhost:8080/"
        },
        "id": "DUVjedPeCCyS",
        "outputId": "b0394a54-f0c8-4017-b140-897fab0b212d"
      },
      "execution_count": 9,
      "outputs": [
        {
          "output_type": "stream",
          "name": "stdout",
          "text": [
            "SEND = 9567, MORE = 1085, MONEY = 10652\n"
          ]
        }
      ]
    },
    {
      "cell_type": "code",
      "source": [
        "start,end =[3,3,1],[0,0,0]\n",
        "def do_action(state,action):\n",
        "    if state[2] == 1:\n",
        "        return [state[i] - action[i] for i in range(3)]\n",
        "    else:\n",
        "        return [state[i] + action[i] for i in range(3)]\n",
        "def is_legal(state):\n",
        "    if 0 <= state[0] <= 3 and 0 <= state[1] <= 3:\n",
        "        return True\n",
        "    else:\n",
        "        return False\n",
        "def is_bank_safe(bank):\n",
        "    if bank[1] > bank[0] and bank[0] != 0:\n",
        "        return False\n",
        "    else:\n",
        "        return True\n",
        "def is_state_safe(state):\n",
        "    other_bank = [start[i]-state[i] for i in range(3)]\n",
        "    if is_bank_safe(state) and is_bank_safe(other_bank) :\n",
        "        return True\n",
        "    else:\n",
        "        return False\n",
        "def next_possible_actions(state):\n",
        "    actions = [[1,0,1],[0,1,1],[1,1,1],[2,0,1],[0,2,1]]\n",
        "    moves = []\n",
        "    for i in actions:\n",
        "        j = do_action(state,i)\n",
        "        if is_legal(j) and is_state_safe(j):\n",
        "            moves.append(j)\n",
        "    return moves\n",
        "solutions = []\n",
        "def solve(next_action,path):\n",
        "    _path = path.copy()\n",
        "    if next_action == end:\n",
        "        _path.append(next_action)\n",
        "        solutions.append(_path)\n",
        "        return\n",
        "    elif next_action in path:\n",
        "        return\n",
        "    else:\n",
        "        _path.append(next_action)\n",
        "        for i in next_possible_actions(next_action):\n",
        "            solve(i,_path)\n",
        "\n",
        "solve([3,3,1],[])\n",
        "print(*solutions,sep=\"\\n\")"
      ],
      "metadata": {
        "colab": {
          "base_uri": "https://localhost:8080/"
        },
        "id": "s00hCpGiCPJi",
        "outputId": "87bbda2d-f1d0-441b-b964-00bdbd0f370d"
      },
      "execution_count": 10,
      "outputs": [
        {
          "metadata": {
            "tags": null
          },
          "name": "stdout",
          "output_type": "stream",
          "text": [
            "[[3, 3, 1], [2, 2, 0], [3, 2, 1], [3, 0, 0], [3, 1, 1], [1, 1, 0], [2, 2, 1], [0, 2, 0], [0, 3, 1], [0, 1, 0], [1, 1, 1], [0, 0, 0]]\n",
            "[[3, 3, 1], [2, 2, 0], [3, 2, 1], [3, 0, 0], [3, 1, 1], [1, 1, 0], [2, 2, 1], [0, 2, 0], [0, 3, 1], [0, 1, 0], [0, 2, 1], [0, 0, 0]]\n",
            "[[3, 3, 1], [3, 1, 0], [3, 2, 1], [3, 0, 0], [3, 1, 1], [1, 1, 0], [2, 2, 1], [0, 2, 0], [0, 3, 1], [0, 1, 0], [1, 1, 1], [0, 0, 0]]\n",
            "[[3, 3, 1], [3, 1, 0], [3, 2, 1], [3, 0, 0], [3, 1, 1], [1, 1, 0], [2, 2, 1], [0, 2, 0], [0, 3, 1], [0, 1, 0], [0, 2, 1], [0, 0, 0]]\n"
          ]
        }
      ]
    },
    {
      "cell_type": "code",
      "source": [
        "import random\n",
        "\n",
        "def display(room):\n",
        "    print(room)\n",
        "\n",
        "room = [\n",
        "    [1, 1, 1, 1],\n",
        "    [1, 1, 1, 1],\n",
        "    [1, 1, 1, 1],\n",
        "    [1, 1, 1, 1],\n",
        "]\n",
        "print(\"All the rooom are dirty\")\n",
        "display(room)\n",
        "\n",
        "x =0\n",
        "y= 0\n",
        "\n",
        "while x < 4:\n",
        "    while y < 4:\n",
        "        room[x][y] = random.choice([0,1])\n",
        "        y+=1\n",
        "    x+=1\n",
        "    y=0\n",
        "\n",
        "print(\"Before cleaning the room I detect all of these random dirts\")\n",
        "display(room)\n",
        "x =0\n",
        "y= 0\n",
        "z=0\n",
        "while x < 4:\n",
        "    while y < 4:\n",
        "        if room[x][y] == 1:\n",
        "            print(\"Vaccum in this location now,\",x, y)\n",
        "            room[x][y] = 0\n",
        "            print(\"cleaned\", x, y)\n",
        "            z+=1\n",
        "        y+=1\n",
        "    x+=1\n",
        "    y=0\n",
        "pro= (100-((z/16)*100))\n",
        "print(\"Room is clean now, Thanks for using : 3710933\")\n",
        "display(room)\n",
        "print('performance=',pro,'%')"
      ],
      "metadata": {
        "colab": {
          "base_uri": "https://localhost:8080/"
        },
        "id": "JUBS5A_9GjPB",
        "outputId": "4a32cd9a-6c1c-45bd-d31f-e7f41d956b7e"
      },
      "execution_count": 11,
      "outputs": [
        {
          "output_type": "stream",
          "name": "stdout",
          "text": [
            "All the rooom are dirty\n",
            "[[1, 1, 1, 1], [1, 1, 1, 1], [1, 1, 1, 1], [1, 1, 1, 1]]\n",
            "Before cleaning the room I detect all of these random dirts\n",
            "[[1, 1, 0, 0], [1, 0, 0, 1], [0, 0, 0, 0], [1, 0, 0, 0]]\n",
            "Vaccum in this location now, 0 0\n",
            "cleaned 0 0\n",
            "Vaccum in this location now, 0 1\n",
            "cleaned 0 1\n",
            "Vaccum in this location now, 1 0\n",
            "cleaned 1 0\n",
            "Vaccum in this location now, 1 3\n",
            "cleaned 1 3\n",
            "Vaccum in this location now, 3 0\n",
            "cleaned 3 0\n",
            "Room is clean now, Thanks for using : 3710933\n",
            "[[0, 0, 0, 0], [0, 0, 0, 0], [0, 0, 0, 0], [0, 0, 0, 0]]\n",
            "performance= 68.75 %\n"
          ]
        }
      ]
    }
  ]
}